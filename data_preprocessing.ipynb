{
  "nbformat": 4,
  "nbformat_minor": 0,
  "metadata": {
    "colab": {
      "provenance": [],
      "authorship_tag": "ABX9TyNnHYF65ckVXQcjC3Nx/1wX",
      "include_colab_link": true
    },
    "kernelspec": {
      "name": "python3",
      "display_name": "Python 3"
    },
    "language_info": {
      "name": "python"
    }
  },
  "cells": [
    {
      "cell_type": "markdown",
      "metadata": {
        "id": "view-in-github",
        "colab_type": "text"
      },
      "source": [
        "<a href=\"https://colab.research.google.com/github/Rohan5076/final-project-codes/blob/main/data_preprocessing.ipynb\" target=\"_parent\"><img src=\"https://colab.research.google.com/assets/colab-badge.svg\" alt=\"Open In Colab\"/></a>"
      ]
    },
    {
      "cell_type": "markdown",
      "source": [
        "## read various types of data"
      ],
      "metadata": {
        "id": "UR6efpqWtdDh"
      }
    },
    {
      "cell_type": "code",
      "source": [
        "import pandas\n",
        " \n",
        "# reading the CSV file\n",
        "csvFile = pandas.read_csv('Giants.csv')\n",
        " \n",
        "# displaying the contents of the CSV file\n",
        "print(csvFile)"
      ],
      "metadata": {
        "id": "Gyk9C5FItjr7"
      },
      "execution_count": null,
      "outputs": []
    },
    {
      "cell_type": "code",
      "source": [
        "# import pandas lib as pd\n",
        "import pandas as pd\n",
        " \n",
        "# read by default 1st sheet of an excel file\n",
        "dataframe1 = pd.read_excel('book2.xlsx')\n",
        " \n",
        "print(dataframe1)"
      ],
      "metadata": {
        "id": "ZYv2UDd9tww8"
      },
      "execution_count": null,
      "outputs": []
    },
    {
      "cell_type": "markdown",
      "source": [
        "## images"
      ],
      "metadata": {
        "id": "ig_2dTXquAU6"
      }
    },
    {
      "cell_type": "code",
      "source": [
        "# import the modules\n",
        "import os\n",
        "from os import listdir\n",
        " \n",
        "# get the path/directory\n",
        "folder_dir = \"C:/Users/RIJUSHREE/Desktop/Gfg images\"\n",
        "for images in os.listdir(folder_dir):\n",
        " \n",
        "    # check if the image ends with png\n",
        "    if (images.endswith(\".png\")):\n",
        "        print(images)"
      ],
      "metadata": {
        "id": "E5R5SLDVt_D1"
      },
      "execution_count": null,
      "outputs": []
    },
    {
      "cell_type": "code",
      "source": [
        "# import the modules\n",
        "import os\n",
        "from os import listdir\n",
        " \n",
        "# get the path or directory\n",
        "folder_dir = \"C:/Users/RIJUSHREE/Desktop/Gfg images\"\n",
        "for images in os.listdir(folder_dir):\n",
        " \n",
        "    # check if the image ends with png or jpg or jpeg\n",
        "    if (images.endswith(\".png\") or images.endswith(\".jpg\")\\\n",
        "        or images.endswith(\".jpeg\")):\n",
        "        # display\n",
        "        print(images)"
      ],
      "metadata": {
        "id": "F6Hws-S0uG91"
      },
      "execution_count": null,
      "outputs": []
    },
    {
      "cell_type": "code",
      "source": [
        "# import required module\n",
        "from pathlib import Path\n",
        " \n",
        "# get the path/directory\n",
        "folder_dir = 'Gfg images'\n",
        " \n",
        "# iterate over files in\n",
        "# that directory\n",
        "images = Path(folder_dir).glob('*.png')\n",
        "for image in images:\n",
        "    print(image)"
      ],
      "metadata": {
        "id": "ssDtFP2BuL4u"
      },
      "execution_count": null,
      "outputs": []
    },
    {
      "cell_type": "code",
      "source": [
        "# import required module\n",
        "import glob\n",
        " \n",
        "# get the path/directory\n",
        "folder_dir = 'Gfg images'\n",
        " \n",
        "# iterate over files in\n",
        "# that directory\n",
        "for images in glob.iglob(f'{folder_dir}/*'):\n",
        "   \n",
        "    # check if the image ends with png\n",
        "    if (images.endswith(\".png\")):\n",
        "        print(images)"
      ],
      "metadata": {
        "id": "-Hg2TYQGuRaE"
      },
      "execution_count": null,
      "outputs": []
    },
    {
      "cell_type": "markdown",
      "source": [
        "#counting the elements"
      ],
      "metadata": {
        "id": "gjF7Bs4duV1K"
      }
    },
    {
      "cell_type": "code",
      "source": [
        "# Check unique values of target varaible\n",
        "df['class'].value_counts()"
      ],
      "metadata": {
        "id": "HI4ktA_ZuZU-"
      },
      "execution_count": null,
      "outputs": []
    },
    {
      "cell_type": "code",
      "source": [
        "# check rows and columns of the dataset\n",
        "df.shape"
      ],
      "metadata": {
        "id": "tYCAMr1hudtZ"
      },
      "execution_count": null,
      "outputs": []
    },
    {
      "cell_type": "markdown",
      "source": [
        "#Categorical and numerical columns"
      ],
      "metadata": {
        "id": "3buCjxzHuguw"
      }
    },
    {
      "cell_type": "code",
      "source": [
        "# define numerical & categorical columns\n",
        "numeric_features = [feature for feature in df.columns if df[feature].dtype != 'O']\n",
        "categorical_features = [feature for feature in df.columns if df[feature].dtype == 'O']\n",
        "\n",
        "# print columns\n",
        "print('We have {} numerical features : {}'.format(len(numeric_features), numeric_features))\n",
        "print('\\nWe have {} categorical features : {}'.format(len(categorical_features), categorical_features))"
      ],
      "metadata": {
        "id": "ugBb0mi8ulgv"
      },
      "execution_count": null,
      "outputs": []
    },
    {
      "cell_type": "markdown",
      "source": [
        "#Checking missing values"
      ],
      "metadata": {
        "id": "j7-lRpM4uzq0"
      }
    },
    {
      "cell_type": "code",
      "source": [
        "# Plotting Missing values count for each column\n",
        "fig, ax = plt.subplots(figsize=(15,5))\n",
        "\n",
        "missing = df.isna().sum().div(df.shape[0]).mul(100).to_frame().sort_values(by=0, ascending = False)\n",
        "\n",
        "ax.bar(missing.index, missing.values.T[0])\n",
        "plt.xticks([])\n",
        "plt.ylabel(\"Percentage missing\")\n",
        "plt.show()"
      ],
      "metadata": {
        "id": "Zvtz9s0duyd_"
      },
      "execution_count": null,
      "outputs": []
    },
    {
      "cell_type": "markdown",
      "source": [
        "#Visulizing unique values in Target variable"
      ],
      "metadata": {
        "id": "in0kFfBsvIAH"
      }
    },
    {
      "cell_type": "code",
      "source": [
        "pos = df[df['class']=='pos'].shape[0]\n",
        "neg = df[df['class']=='neg'].shape[0]\n",
        "print(\"Positive: \" + str(pos) + \", Negative: \" + str(neg))\n",
        "sns.catplot(data=df, x=\"class\", kind=\"count\", palette=\"winter_r\", alpha=.6)\n",
        "plt.show()"
      ],
      "metadata": {
        "id": "w51GTP8PvN52"
      },
      "execution_count": null,
      "outputs": []
    },
    {
      "cell_type": "markdown",
      "source": [
        "#KNN IMPUTER"
      ],
      "metadata": {
        "id": "DKJOpQ-AweEs"
      }
    },
    {
      "cell_type": "code",
      "source": [
        "# Fit with robust scaler for KNN best K-selection experminet\n",
        "robustscaler = RobustScaler()\n",
        "X1 = robustscaler.fit_transform(X)"
      ],
      "metadata": {
        "id": "mz7fDxH1wdF8"
      },
      "execution_count": null,
      "outputs": []
    },
    {
      "cell_type": "markdown",
      "source": [
        "## finding optimal n_neighbour value for knn imputer"
      ],
      "metadata": {
        "id": "_YKUa4_mwpCg"
      }
    },
    {
      "cell_type": "code",
      "source": [
        "results=[]\n",
        "# define imputer\n",
        "imputer = KNNImputer(n_neighbors=5, weights='uniform', metric='nan_euclidean')\n",
        "strategies = [str(i) for i in [1,3,5,7,9]]\n",
        "for s in strategies:\n",
        "    pipeline = Pipeline(steps=[('i', KNNImputer(n_neighbors=int(s))), ('m', LogisticRegression())])\n",
        "    scores = cross_val_score(pipeline, X1, y, scoring='accuracy', cv=2, n_jobs=-1)\n",
        "    results.append(scores)\n",
        "    print('n_neighbors= %s || accuracy (%.4f)' % (s , mean(scores)))"
      ],
      "metadata": {
        "id": "gYS9vbD7wwjR"
      },
      "execution_count": null,
      "outputs": []
    },
    {
      "cell_type": "code",
      "source": [
        "num_features = X.select_dtypes(exclude=\"object\").columns\n",
        "\n",
        "# Fit the KNN imputer with selected K-value\n",
        "knn_pipeline = Pipeline(steps=[\n",
        "    ('imputer', KNNImputer(n_neighbors=3)),\n",
        "    ('RobustScaler', RobustScaler())\n",
        "])"
      ],
      "metadata": {
        "id": "rDsywIwvw52l"
      },
      "execution_count": null,
      "outputs": []
    },
    {
      "cell_type": "code",
      "source": [
        "X_knn =knn_pipeline.fit_transform(X)"
      ],
      "metadata": {
        "id": "3CS3tr6tw-lQ"
      },
      "execution_count": null,
      "outputs": []
    },
    {
      "cell_type": "markdown",
      "source": [
        "#MICE FOR IMPUTTING MISSING VALUES"
      ],
      "metadata": {
        "id": "NET-4csVxlwy"
      }
    },
    {
      "cell_type": "code",
      "source": [
        "import miceforest as mf\n",
        "\n",
        "X_mice = X.copy()\n",
        "kernel = mf.ImputationKernel(\n",
        "  X_mice,\n",
        "  save_all_iterations=True,\n",
        "  random_state=1989\n",
        ")# Run the MICE algorithm for 3 iterations kernel.mice(3)"
      ],
      "metadata": {
        "id": "oW4WLvrdxkRf"
      },
      "execution_count": null,
      "outputs": []
    },
    {
      "cell_type": "code",
      "source": [
        "X_mice = kernel.complete_data()"
      ],
      "metadata": {
        "id": "-Z5RJ-YKxvKG"
      },
      "execution_count": null,
      "outputs": []
    },
    {
      "cell_type": "code",
      "source": [
        "# fit robust scaler\n",
        "mice_pipeline = Pipeline(steps=[\n",
        "    ('RobustScaler', RobustScaler())\n",
        "])"
      ],
      "metadata": {
        "id": "Wu46tEJXxy8k"
      },
      "execution_count": null,
      "outputs": []
    },
    {
      "cell_type": "code",
      "source": [
        "# Fit X with Mice imputer \n",
        "X_mice= mice_pipeline.fit_transform(X_mice)"
      ],
      "metadata": {
        "id": "GbF5sJoPx72c"
      },
      "execution_count": null,
      "outputs": []
    },
    {
      "cell_type": "code",
      "source": [
        "# Resampling the minority class. The strategy can be changed as required.\n",
        "smt = SMOTETomek(random_state=42,sampling_strategy='minority', n_jobs=-1 )\n",
        "# Fit the model to generate the data.\n",
        "X_res, y_res = smt.fit_resample(X_mice, y)"
      ],
      "metadata": {
        "id": "0uVrrCMWx-No"
      },
      "execution_count": null,
      "outputs": []
    },
    {
      "cell_type": "markdown",
      "source": [
        "# SMOTE"
      ],
      "metadata": {
        "id": "MwKmc11yxQhZ"
      }
    },
    {
      "cell_type": "code",
      "source": [
        "from imblearn.combine import SMOTETomek\n",
        "\n",
        "# Resampling the minority class. The strategy can be changed as required.\n",
        "smt = SMOTETomek(random_state=42,sampling_strategy='minority',n_jobs=-1)\n",
        "# Fit the model to generate the data.\n",
        "X_res, y_res = smt.fit_resample(X_knn, y)"
      ],
      "metadata": {
        "id": "hfVv1N_exSKa"
      },
      "execution_count": null,
      "outputs": []
    }
  ]
}